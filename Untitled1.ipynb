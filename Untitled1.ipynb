{
 "cells": [
  {
   "cell_type": "code",
   "execution_count": 1,
   "id": "661fee32",
   "metadata": {},
   "outputs": [],
   "source": [
    "from pprint import pprint"
   ]
  },
  {
   "cell_type": "code",
   "execution_count": 2,
   "id": "dda2c59a",
   "metadata": {},
   "outputs": [
    {
     "name": "stdout",
     "output_type": "stream",
     "text": [
      "https://mainnet.infura.io/v3/9781309657ea4b1886c5847ce1df3946\n",
      "Latest Ethereum block number 15205801\n"
     ]
    }
   ],
   "source": [
    "import os\n",
    "\n",
    "connid = 'https://mainnet.infura.io/v3/{project_id}'.format(project_id=\"9781309657ea4b1886c5847ce1df3946\")\n",
    "from web3 import Web3, HTTPProvider\n",
    "print(connid)\n",
    "connection = Web3(HTTPProvider(connid))\n",
    "print (\"Latest Ethereum block number\", connection.eth.blockNumber)"
   ]
  },
  {
   "cell_type": "code",
   "execution_count": 6,
   "id": "29d9437d",
   "metadata": {},
   "outputs": [
    {
     "name": "stdout",
     "output_type": "stream",
     "text": [
      " 15205811  ts 1658672534  #txns 78\n",
      "..............................................................................\n",
      "\n",
      " 15205810  ts 1658672531  #txns 176\n",
      "................................................................................................................................................................................\n",
      "\n",
      " 15205809  ts 1658672512  #txns 146\n",
      "..................................................................................................................................................\n",
      "\n",
      " 15205808  ts 1658672504  #txns 67\n",
      "...................................................................\n",
      "\n",
      " 15205807  ts 1658672497  #txns 96\n",
      "................................................................................................\n",
      "\n"
     ]
    }
   ],
   "source": [
    "import time\n",
    "eth = connection.eth\n",
    "blocks = []\n",
    "txns = []\n",
    "receipts = []\n",
    "receipt_attrs = ['cumulativeGasUsed', 'effectiveGasPrice', 'from', 'gasUsed', \"status\"]\n",
    "txn_attrs = [\"gas\", ]\n",
    "gasUsed = 0\n",
    "for i in range(5):\n",
    "    time.sleep(0.5)\n",
    "    if i == 0:\n",
    "        block_number = 'latest'\n",
    "    else:\n",
    "        block_number = block.number-1\n",
    "    block = eth.get_block(block_number, full_transactions=True)\n",
    "    blocks.append(block)\n",
    "    print(f\" {block.number}  ts {block.timestamp}  #txns {len(block.transactions)}\")\n",
    "    block_txns = block.transactions  \n",
    "    for i, txn in enumerate(block_txns):\n",
    "        print(\".\", end='')\n",
    "        txns.append(txn)\n",
    "        thash = txn.hash.hex()\n",
    "        receipt = eth.waitForTransactionReceipt(thash)\n",
    "        if receipt is None:\n",
    "            print(f\"no receipt\")\n",
    "        gasUsed += receipt.gasUsed       \n",
    "        receipts.append(receipt)\n",
    "    print(\"\\n\")"
   ]
  },
  {
   "cell_type": "code",
   "execution_count": 22,
   "id": "07eca684",
   "metadata": {},
   "outputs": [
    {
     "data": {
      "text/plain": [
       "563"
      ]
     },
     "execution_count": 22,
     "metadata": {},
     "output_type": "execute_result"
    }
   ],
   "source": [
    "len(txns)"
   ]
  },
  {
   "cell_type": "code",
   "execution_count": 23,
   "id": "c9d83c04",
   "metadata": {},
   "outputs": [
    {
     "name": "stdout",
     "output_type": "stream",
     "text": [
      "(563, 14) (563, 6) (563, 8)\n"
     ]
    }
   ],
   "source": [
    "import pandas as pd\n",
    "blockdf = pd.DataFrame(blocks)\n",
    "txndf = pd.DataFrame(txns)\n",
    "recdf = pd.DataFrame(receipts)\n",
    "rec_cols = [\"blockNumber\", \"transactionIndex\", \"status\", \"type\", \"gasUsed\", \"effectiveGasPrice\"]\n",
    "txn_cols = [\"blockNumber\", \"transactionIndex\", \"gas\", \"gasPrice\", \"maxFeePerGas\", \"maxPriorityFeePerGas\", \"v\", \"value\"]\n",
    "block_cols = [\"number\", \"difficulty\", \"baseFeesPerGas\", \"gasLimit\", \"gasUsed\", \"miner\", \"timestamp\", \"totalDificulty\"]\n",
    "tdf = txndf.filter(items=txn_cols, axis=1)\n",
    "rdf = recdf.filter(items=rec_cols, axis=1)\n",
    "bdf = blockdf.filter(items=block_cols, axis=1)\n",
    "print(recdf.shape, rdf.shape, tdf.shape)"
   ]
  },
  {
   "cell_type": "code",
   "execution_count": 41,
   "id": "1f1d7cdd",
   "metadata": {},
   "outputs": [
    {
     "name": "stdout",
     "output_type": "stream",
     "text": [
      "(563, 12)\n"
     ]
    },
    {
     "data": {
      "text/html": [
       "<div>\n",
       "<style scoped>\n",
       "    .dataframe tbody tr th:only-of-type {\n",
       "        vertical-align: middle;\n",
       "    }\n",
       "\n",
       "    .dataframe tbody tr th {\n",
       "        vertical-align: top;\n",
       "    }\n",
       "\n",
       "    .dataframe thead th {\n",
       "        text-align: right;\n",
       "    }\n",
       "</style>\n",
       "<table border=\"1\" class=\"dataframe\">\n",
       "  <thead>\n",
       "    <tr style=\"text-align: right;\">\n",
       "      <th></th>\n",
       "      <th>blockNumber</th>\n",
       "      <th>transactionIndex</th>\n",
       "      <th>gas</th>\n",
       "      <th>gasPrice</th>\n",
       "      <th>maxFeePerGas</th>\n",
       "      <th>maxPriorityFeePerGas</th>\n",
       "      <th>v</th>\n",
       "      <th>value</th>\n",
       "      <th>status</th>\n",
       "      <th>type</th>\n",
       "      <th>gasUsed</th>\n",
       "      <th>effectiveGasPrice</th>\n",
       "    </tr>\n",
       "  </thead>\n",
       "  <tbody>\n",
       "    <tr>\n",
       "      <th>558</th>\n",
       "      <td>15205807</td>\n",
       "      <td>91</td>\n",
       "      <td>21000</td>\n",
       "      <td>21.000000</td>\n",
       "      <td>NaN</td>\n",
       "      <td>NaN</td>\n",
       "      <td>38</td>\n",
       "      <td>73345536840468030</td>\n",
       "      <td>1</td>\n",
       "      <td>0x0</td>\n",
       "      <td>0.021000</td>\n",
       "      <td>21000000000</td>\n",
       "    </tr>\n",
       "    <tr>\n",
       "      <th>559</th>\n",
       "      <td>15205807</td>\n",
       "      <td>92</td>\n",
       "      <td>21000</td>\n",
       "      <td>21.000000</td>\n",
       "      <td>NaN</td>\n",
       "      <td>NaN</td>\n",
       "      <td>38</td>\n",
       "      <td>73312727759912000</td>\n",
       "      <td>1</td>\n",
       "      <td>0x0</td>\n",
       "      <td>0.021000</td>\n",
       "      <td>21000000000</td>\n",
       "    </tr>\n",
       "    <tr>\n",
       "      <th>560</th>\n",
       "      <td>15205807</td>\n",
       "      <td>93</td>\n",
       "      <td>50707</td>\n",
       "      <td>21.000000</td>\n",
       "      <td>NaN</td>\n",
       "      <td>NaN</td>\n",
       "      <td>37</td>\n",
       "      <td>0</td>\n",
       "      <td>1</td>\n",
       "      <td>0x0</td>\n",
       "      <td>0.046097</td>\n",
       "      <td>21000000000</td>\n",
       "    </tr>\n",
       "    <tr>\n",
       "      <th>561</th>\n",
       "      <td>15205807</td>\n",
       "      <td>94</td>\n",
       "      <td>21000</td>\n",
       "      <td>20.848287</td>\n",
       "      <td>NaN</td>\n",
       "      <td>NaN</td>\n",
       "      <td>38</td>\n",
       "      <td>97960331978439000</td>\n",
       "      <td>1</td>\n",
       "      <td>0x0</td>\n",
       "      <td>0.021000</td>\n",
       "      <td>20848286741</td>\n",
       "    </tr>\n",
       "    <tr>\n",
       "      <th>562</th>\n",
       "      <td>15205807</td>\n",
       "      <td>95</td>\n",
       "      <td>21000</td>\n",
       "      <td>20.848287</td>\n",
       "      <td>NaN</td>\n",
       "      <td>NaN</td>\n",
       "      <td>38</td>\n",
       "      <td>197922385978439000</td>\n",
       "      <td>1</td>\n",
       "      <td>0x0</td>\n",
       "      <td>0.021000</td>\n",
       "      <td>20848286741</td>\n",
       "    </tr>\n",
       "  </tbody>\n",
       "</table>\n",
       "</div>"
      ],
      "text/plain": [
       "     blockNumber  transactionIndex    gas   gasPrice  maxFeePerGas  \\\n",
       "558     15205807                91  21000  21.000000           NaN   \n",
       "559     15205807                92  21000  21.000000           NaN   \n",
       "560     15205807                93  50707  21.000000           NaN   \n",
       "561     15205807                94  21000  20.848287           NaN   \n",
       "562     15205807                95  21000  20.848287           NaN   \n",
       "\n",
       "     maxPriorityFeePerGas   v               value  status type   gasUsed  \\\n",
       "558                   NaN  38   73345536840468030       1  0x0  0.021000   \n",
       "559                   NaN  38   73312727759912000       1  0x0  0.021000   \n",
       "560                   NaN  37                   0       1  0x0  0.046097   \n",
       "561                   NaN  38   97960331978439000       1  0x0  0.021000   \n",
       "562                   NaN  38  197922385978439000       1  0x0  0.021000   \n",
       "\n",
       "     effectiveGasPrice  \n",
       "558        21000000000  \n",
       "559        21000000000  \n",
       "560        21000000000  \n",
       "561        20848286741  \n",
       "562        20848286741  "
      ]
     },
     "execution_count": 41,
     "metadata": {},
     "output_type": "execute_result"
    }
   ],
   "source": [
    "mdf = tdf.merge(rdf, on=[\"blockNumber\", \"transactionIndex\"], how=\"outer\")\n",
    "mdf[\"gasPrice\"] /= 10**9\n",
    "mdf[\"gasUsed\"] /= 10**6\n",
    "print(mdf.shape)\n",
    "mdf.tail()\n",
    "\n"
   ]
  },
  {
   "cell_type": "code",
   "execution_count": 42,
   "id": "7e71a3d8",
   "metadata": {},
   "outputs": [
    {
     "name": "stderr",
     "output_type": "stream",
     "text": [
      "/home/john/anaconda3/envs/ether/lib/python3.8/site-packages/plotnine/layer.py:412: PlotnineWarning: geom_point : Removed 4 rows containing missing values.\n"
     ]
    },
    {
     "data": {
      "image/png": "[encoded data removed]",
      "text/plain": [
       "<Figure size 640x480 with 5 Axes>"
      ]
     },
     "metadata": {},
     "output_type": "display_data"
    },
    {
     "data": {
      "text/plain": [
       "<ggplot: (8738631139825)>"
      ]
     },
     "execution_count": 42,
     "metadata": {},
     "output_type": "execute_result"
    }
   ],
   "source": [
    "from plotnine import ggplot, geom_point, aes, stat_smooth, facet_wrap, scales\n",
    "from plotnine.data import mtcars\n",
    "import plotnine as p9\n",
    "\n",
    "\n",
    "(ggplot(mdf, aes('gasPrice', 'gasUsed', color='factor(type)'))\n",
    " + geom_point()\n",
    "# + stat_smooth(method='lm')\n",
    " + facet_wrap('~blockNumber')\n",
    "  + p9.scale_x_continuous(limits=(0, 100))\n",
    ")"
   ]
  },
  {
   "cell_type": "code",
   "execution_count": 16,
   "id": "c9acfc40",
   "metadata": {},
   "outputs": [
    {
     "name": "stdout",
     "output_type": "stream",
     "text": [
      "(15199479, 0)\n",
      "<class 'web3.datastructures.AttributeDict'>\n",
      "['blockHash', 'blockNumber', 'contractAddress', 'cumulativeGasUsed', 'effectiveGasPrice', 'from', 'gasUsed', 'get', 'items', 'keys', 'logs', 'logsBloom', 'recursive', 'status', 'to', 'transactionHash', 'transactionIndex', 'type', 'values']\n",
      "KeysView(AttributeDict({'blockHash': HexBytes('0x7ec3e3c7a8e0a990a576024c87e677af6661b8c076d39d1bf6c58e7fe7a9b71c'), 'blockNumber': 15199479, 'contractAddress': None, 'cumulativeGasUsed': 198332, 'effectiveGasPrice': 15531310747, 'from': '0xc9ec550BEA1C64D779124b23A26292cc223327b6', 'gasUsed': 198332, 'logs': [AttributeDict({'address': '0x9008D19f58AAbD9eD0D60971565AA8510560ab41', 'blockHash': HexBytes('0x7ec3e3c7a8e0a990a576024c87e677af6661b8c076d39d1bf6c58e7fe7a9b71c'), 'blockNumber': 15199479, 'data': '0x000000000000000000000000dc0327d50e6c73db2f8117760592c8bbf1cdcf38000000000000000000000000eeeeeeeeeeeeeeeeeeeeeeeeeeeeeeeeeeeeeeee000000000000000000000000000000000000000000000003deae79b73e5d091f000000000000000000000000000000000000000000000000027dc73c3d77567200000000000000000000000000000000000000000000000010fecffead8a2c0000000000000000000000000000000000000000000000000000000000000000c00000000000000000000000000000000000000000000000000000000000000038981b9956aed9082fffb7cec3838034972a03a4bcdef60af0ebf04a291340fd39d28c445f8a7c417bc0ffede4880c1c40a7d50ee362dc0ddf0000000000000000', 'logIndex': 0, 'removed': False, 'topics': [HexBytes('0xa07a543ab8a018198e99ca0184c93fe9050a79400a0a723441f84de1d972cc17'), HexBytes('0x000000000000000000000000d28c445f8a7c417bc0ffede4880c1c40a7d50ee3')], 'transactionHash': HexBytes('0x6138f49363d4b89e741a52780631b4817036174392945e348bcb0198f4ddbdd5'), 'transactionIndex': 0}), AttributeDict({'address': '0xDc0327D50E6C73db2F8117760592C8BBf1CDCF38', 'blockHash': HexBytes('0x7ec3e3c7a8e0a990a576024c87e677af6661b8c076d39d1bf6c58e7fe7a9b71c'), 'blockNumber': 15199479, 'data': '0x000000000000000000000000000000000000000000000003deae79b73e5d091f', 'logIndex': 1, 'removed': False, 'topics': [HexBytes('0xddf252ad1be2c89b69c2b068fc378daa952ba7f163c4a11628f55a4df523b3ef'), HexBytes('0x000000000000000000000000d28c445f8a7c417bc0ffede4880c1c40a7d50ee3'), HexBytes('0x0000000000000000000000009008d19f58aabd9ed0d60971565aa8510560ab41')], 'transactionHash': HexBytes('0x6138f49363d4b89e741a52780631b4817036174392945e348bcb0198f4ddbdd5'), 'transactionIndex': 0}), AttributeDict({'address': '0xDc0327D50E6C73db2F8117760592C8BBf1CDCF38', 'blockHash': HexBytes('0x7ec3e3c7a8e0a990a576024c87e677af6661b8c076d39d1bf6c58e7fe7a9b71c'), 'blockNumber': 15199479, 'data': '0x000000000000000000000000000000000000000000000003cdafa9b890d2dd1f', 'logIndex': 2, 'removed': False, 'topics': [HexBytes('0xddf252ad1be2c89b69c2b068fc378daa952ba7f163c4a11628f55a4df523b3ef'), HexBytes('0x0000000000000000000000009008d19f58aabd9ed0d60971565aa8510560ab41'), HexBytes('0x000000000000000000000000453a43e2bf3080f7a23c9bb034ccdd869e306102')], 'transactionHash': HexBytes('0x6138f49363d4b89e741a52780631b4817036174392945e348bcb0198f4ddbdd5'), 'transactionIndex': 0}), AttributeDict({'address': '0xC02aaA39b223FE8D0A0e5C4F27eAD9083C756Cc2', 'blockHash': HexBytes('0x7ec3e3c7a8e0a990a576024c87e677af6661b8c076d39d1bf6c58e7fe7a9b71c'), 'blockNumber': 15199479, 'data': '0x0000000000000000000000000000000000000000000000000276017830a6539a', 'logIndex': 3, 'removed': False, 'topics': [HexBytes('0xddf252ad1be2c89b69c2b068fc378daa952ba7f163c4a11628f55a4df523b3ef'), HexBytes('0x000000000000000000000000453a43e2bf3080f7a23c9bb034ccdd869e306102'), HexBytes('0x0000000000000000000000009008d19f58aabd9ed0d60971565aa8510560ab41')], 'transactionHash': HexBytes('0x6138f49363d4b89e741a52780631b4817036174392945e348bcb0198f4ddbdd5'), 'transactionIndex': 0}), AttributeDict({'address': '0x453a43E2Bf3080f7a23c9BB034CcDD869e306102', 'blockHash': HexBytes('0x7ec3e3c7a8e0a990a576024c87e677af6661b8c076d39d1bf6c58e7fe7a9b71c'), 'blockNumber': 15199479, 'data': '0x00000000000000000000000000000000000000000000000b8e0264de416172120000000000000000000000000000000000000000000011d1bfeed8692f4b8c82', 'logIndex': 4, 'removed': False, 'topics': [HexBytes('0x1c411e9a96e071241c2f21f7726b17ae89e3cab4c78be50e062b03a9fffbbad1')], 'transactionHash': HexBytes('0x6138f49363d4b89e741a52780631b4817036174392945e348bcb0198f4ddbdd5'), 'transactionIndex': 0}), AttributeDict({'address': '0x453a43E2Bf3080f7a23c9BB034CcDD869e306102', 'blockHash': HexBytes('0x7ec3e3c7a8e0a990a576024c87e677af6661b8c076d39d1bf6c58e7fe7a9b71c'), 'blockNumber': 15199479, 'data': '0x0000000000000000000000000000000000000000000000000000000000000000000000000000000000000000000000000000000000000003cdafa9b890d2dd1f0000000000000000000000000000000000000000000000000276017830a6539a0000000000000000000000000000000000000000000000000000000000000000', 'logIndex': 5, 'removed': False, 'topics': [HexBytes('0xd78ad95fa46c994b6551d0da85fc275fe613ce37657fb8d5e3d130840159d822'), HexBytes('0x000000000000000000000000def1c0ded9bec7f1a1670819833240f027b25eff'), HexBytes('0x0000000000000000000000009008d19f58aabd9ed0d60971565aa8510560ab41')], 'transactionHash': HexBytes('0x6138f49363d4b89e741a52780631b4817036174392945e348bcb0198f4ddbdd5'), 'transactionIndex': 0}), AttributeDict({'address': '0x9008D19f58AAbD9eD0D60971565AA8510560ab41', 'blockHash': HexBytes('0x7ec3e3c7a8e0a990a576024c87e677af6661b8c076d39d1bf6c58e7fe7a9b71c'), 'blockNumber': 15199479, 'data': '0x0000000000000000000000000000000000000000000000000000000000000000d9627aa400000000000000000000000000000000000000000000000000000000', 'logIndex': 6, 'removed': False, 'topics': [HexBytes('0xed99827efb37016f2275f98c4bcf71c7551c75d59e9b450f79fa32e60be672c2'), HexBytes('0x000000000000000000000000def1c0ded9bec7f1a1670819833240f027b25eff')], 'transactionHash': HexBytes('0x6138f49363d4b89e741a52780631b4817036174392945e348bcb0198f4ddbdd5'), 'transactionIndex': 0}), AttributeDict({'address': '0xC02aaA39b223FE8D0A0e5C4F27eAD9083C756Cc2', 'blockHash': HexBytes('0x7ec3e3c7a8e0a990a576024c87e677af6661b8c076d39d1bf6c58e7fe7a9b71c'), 'blockNumber': 15199479, 'data': '0x00000000000000000000000000000000000000000000000005e463ccec4d8d80', 'logIndex': 7, 'removed': False, 'topics': [HexBytes('0x7fcf532c15f0a6db0bd6d0e038bea71d30d808c7d98cb3bf7268a95bf5081b65'), HexBytes('0x0000000000000000000000009008d19f58aabd9ed0d60971565aa8510560ab41')], 'transactionHash': HexBytes('0x6138f49363d4b89e741a52780631b4817036174392945e348bcb0198f4ddbdd5'), 'transactionIndex': 0}), AttributeDict({'address': '0x9008D19f58AAbD9eD0D60971565AA8510560ab41', 'blockHash': HexBytes('0x7ec3e3c7a8e0a990a576024c87e677af6661b8c076d39d1bf6c58e7fe7a9b71c'), 'blockNumber': 15199479, 'data': '0x00000000000000000000000000000000000000000000000000000000000000002e1a7d4d00000000000000000000000000000000000000000000000000000000', 'logIndex': 8, 'removed': False, 'topics': [HexBytes('0xed99827efb37016f2275f98c4bcf71c7551c75d59e9b450f79fa32e60be672c2'), HexBytes('0x000000000000000000000000c02aaa39b223fe8d0a0e5c4f27ead9083c756cc2')], 'transactionHash': HexBytes('0x6138f49363d4b89e741a52780631b4817036174392945e348bcb0198f4ddbdd5'), 'transactionIndex': 0}), AttributeDict({'address': '0x9008D19f58AAbD9eD0D60971565AA8510560ab41', 'blockHash': HexBytes('0x7ec3e3c7a8e0a990a576024c87e677af6661b8c076d39d1bf6c58e7fe7a9b71c'), 'blockNumber': 15199479, 'data': '0x', 'logIndex': 9, 'removed': False, 'topics': [HexBytes('0x40338ce1a7c49204f0099533b1e9a7ee0a3d261f84974ab7af36105b8c4e9db4'), HexBytes('0x000000000000000000000000c9ec550bea1c64d779124b23a26292cc223327b6')], 'transactionHash': HexBytes('0x6138f49363d4b89e741a52780631b4817036174392945e348bcb0198f4ddbdd5'), 'transactionIndex': 0})], 'logsBloom': HexBytes('0x00201000000000000000000080001000004010000000000000000000000000000800000500000000240000000000200002000080080000000000000000000000000000000000002000000008000000a000000001004000000000000000000000000000000040000000008000000000400000000000100c0010004010000000000000000000000000000000400000000000000000400000080000004000000000000000600000000000004004000000000000000000000000010000000008000000000006000800000000000000080000000020000000001000800002000000000000200000000000000002000000000000004000000000000000000000000000'), 'status': 1, 'to': '0x9008D19f58AAbD9eD0D60971565AA8510560ab41', 'transactionHash': HexBytes('0x6138f49363d4b89e741a52780631b4817036174392945e348bcb0198f4ddbdd5'), 'transactionIndex': 0, 'type': '0x2'}))\n"
     ]
    }
   ],
   "source": [
    "for key in receipts.keys():\n",
    "    print(key)\n",
    "    receipt = receipts[key]\n",
    "    print(type(receipt))\n",
    "    print([x for x in dir(receipt) if not x.startswith(\"_\")])\n",
    "    pprint(receipt.keys())\n",
    "    break"
   ]
  },
  {
   "cell_type": "code",
   "execution_count": 113,
   "id": "2e6e6b0e",
   "metadata": {},
   "outputs": [
    {
     "name": "stdout",
     "output_type": "stream",
     "text": [
      "<class 'hexbytes.main.HexBytes'>\n"
     ]
    },
    {
     "data": {
      "text/plain": [
       "'0x49a6684f3870534d3aac4dab5b620de692eeef32b9927c5bd80e5cdf6e87d2b9'"
      ]
     },
     "execution_count": 113,
     "metadata": {},
     "output_type": "execute_result"
    }
   ],
   "source": [
    "x = (trxns[174].hash)\n",
    "print(type(x))\n",
    "x.hex()\n",
    "#trxns[174]\n"
   ]
  },
  {
   "cell_type": "code",
   "execution_count": 116,
   "id": "f6f88fb9",
   "metadata": {},
   "outputs": [
    {
     "name": "stdout",
     "output_type": "stream",
     "text": [
      "0x49a6684f3870534d3aac4dab5b620de692eeef32b9927c5bd80e5cdf6e87d2b9\n"
     ]
    },
    {
     "data": {
      "text/plain": [
       "AttributeDict({'blockHash': HexBytes('0xe24114aaf41e7f49ab4cd2cca407de9ad92cdf908a97c5a3532bac62ee1be7cd'),\n",
       " 'blockNumber': 15195097,\n",
       " 'contractAddress': None,\n",
       " 'cumulativeGasUsed': 13234091,\n",
       " 'effectiveGasPrice': 15910129122,\n",
       " 'from': '0x3ab37d78b48D019540d01B20fC4fb2FaF0A2224c',\n",
       " 'gasUsed': 129442,\n",
       " 'logs': [AttributeDict({'address': '0xC02aaA39b223FE8D0A0e5C4F27eAD9083C756Cc2',\n",
       "   'blockHash': HexBytes('0xe24114aaf41e7f49ab4cd2cca407de9ad92cdf908a97c5a3532bac62ee1be7cd'),\n",
       "   'blockNumber': 15195097,\n",
       "   'data': '0x00000000000000000000000000000000000000000000000001f161421c8e0000',\n",
       "   'logIndex': 295,\n",
       "   'removed': False,\n",
       "   'topics': [HexBytes('0xe1fffcc4923d04b559f4d29a8bfc6cda04eb5b0d3c460751c2402c5c5cc9109c'),\n",
       "    HexBytes('0x00000000000000000000000068b3465833fb72a70ecdf485e0e4c7bd8665fc45')],\n",
       "   'transactionHash': HexBytes('0x49a6684f3870534d3aac4dab5b620de692eeef32b9927c5bd80e5cdf6e87d2b9'),\n",
       "   'transactionIndex': 174}),\n",
       "  AttributeDict({'address': '0xC02aaA39b223FE8D0A0e5C4F27eAD9083C756Cc2',\n",
       "   'blockHash': HexBytes('0xe24114aaf41e7f49ab4cd2cca407de9ad92cdf908a97c5a3532bac62ee1be7cd'),\n",
       "   'blockNumber': 15195097,\n",
       "   'data': '0x00000000000000000000000000000000000000000000000001f161421c8e0000',\n",
       "   'logIndex': 296,\n",
       "   'removed': False,\n",
       "   'topics': [HexBytes('0xddf252ad1be2c89b69c2b068fc378daa952ba7f163c4a11628f55a4df523b3ef'),\n",
       "    HexBytes('0x00000000000000000000000068b3465833fb72a70ecdf485e0e4c7bd8665fc45'),\n",
       "    HexBytes('0x0000000000000000000000003841564b18e1cae04f90f4a432252baef999db77')],\n",
       "   'transactionHash': HexBytes('0x49a6684f3870534d3aac4dab5b620de692eeef32b9927c5bd80e5cdf6e87d2b9'),\n",
       "   'transactionIndex': 174}),\n",
       "  AttributeDict({'address': '0x755EebCb7b2d035b53d0D9C7143f526F5856f4fC',\n",
       "   'blockHash': HexBytes('0xe24114aaf41e7f49ab4cd2cca407de9ad92cdf908a97c5a3532bac62ee1be7cd'),\n",
       "   'blockNumber': 15195097,\n",
       "   'data': '0x0000000000000000000000000000000000000000000000000000000d59ac8284',\n",
       "   'logIndex': 297,\n",
       "   'removed': False,\n",
       "   'topics': [HexBytes('0xddf252ad1be2c89b69c2b068fc378daa952ba7f163c4a11628f55a4df523b3ef'),\n",
       "    HexBytes('0x0000000000000000000000003841564b18e1cae04f90f4a432252baef999db77'),\n",
       "    HexBytes('0x0000000000000000000000003ab37d78b48d019540d01b20fc4fb2faf0a2224c')],\n",
       "   'transactionHash': HexBytes('0x49a6684f3870534d3aac4dab5b620de692eeef32b9927c5bd80e5cdf6e87d2b9'),\n",
       "   'transactionIndex': 174}),\n",
       "  AttributeDict({'address': '0x3841564B18E1cae04F90F4a432252BAEf999db77',\n",
       "   'blockHash': HexBytes('0xe24114aaf41e7f49ab4cd2cca407de9ad92cdf908a97c5a3532bac62ee1be7cd'),\n",
       "   'blockNumber': 15195097,\n",
       "   'data': '0x0000000000000000000000000000000000000000000000000000021e5d9cd37600000000000000000000000000000000000000000000000050a3332245f3b29b',\n",
       "   'logIndex': 298,\n",
       "   'removed': False,\n",
       "   'topics': [HexBytes('0x1c411e9a96e071241c2f21f7726b17ae89e3cab4c78be50e062b03a9fffbbad1')],\n",
       "   'transactionHash': HexBytes('0x49a6684f3870534d3aac4dab5b620de692eeef32b9927c5bd80e5cdf6e87d2b9'),\n",
       "   'transactionIndex': 174}),\n",
       "  AttributeDict({'address': '0x3841564B18E1cae04F90F4a432252BAEf999db77',\n",
       "   'blockHash': HexBytes('0xe24114aaf41e7f49ab4cd2cca407de9ad92cdf908a97c5a3532bac62ee1be7cd'),\n",
       "   'blockNumber': 15195097,\n",
       "   'data': '0x000000000000000000000000000000000000000000000000000000000000000000000000000000000000000000000000000000000000000001f161421c8e00000000000000000000000000000000000000000000000000000000000d59ac82840000000000000000000000000000000000000000000000000000000000000000',\n",
       "   'logIndex': 299,\n",
       "   'removed': False,\n",
       "   'topics': [HexBytes('0xd78ad95fa46c994b6551d0da85fc275fe613ce37657fb8d5e3d130840159d822'),\n",
       "    HexBytes('0x00000000000000000000000068b3465833fb72a70ecdf485e0e4c7bd8665fc45'),\n",
       "    HexBytes('0x0000000000000000000000003ab37d78b48d019540d01b20fc4fb2faf0a2224c')],\n",
       "   'transactionHash': HexBytes('0x49a6684f3870534d3aac4dab5b620de692eeef32b9927c5bd80e5cdf6e87d2b9'),\n",
       "   'transactionIndex': 174})],\n",
       " 'logsBloom': HexBytes('0x00200000000000000000000080000000100000040000000000000000000000000000000000000000000000000000000002000000080000000000000000000000000000000000800000000008000000200000000000000000000000008040000000000000000000000000000000000000000000000000000000000010000000000000000020000000500800000000000000000001000000082000004000000000000000000000000000000000000000000000000800000000000000000000000000000002000000000000000000000000000000002000001000000100000000000000300000000000000000000000080000200000000000400000000000000000'),\n",
       " 'status': 1,\n",
       " 'to': '0x68b3465833fb72A70ecDF485E0e4C7bD8665Fc45',\n",
       " 'transactionHash': HexBytes('0x49a6684f3870534d3aac4dab5b620de692eeef32b9927c5bd80e5cdf6e87d2b9'),\n",
       " 'transactionIndex': 174,\n",
       " 'type': '0x2'})"
      ]
     },
     "execution_count": 116,
     "metadata": {},
     "output_type": "execute_result"
    }
   ],
   "source": [
    "len(trxns)\n",
    "block.number\n",
    "myhash = trxns[174].hash\n",
    "print(myhash.hex())\n",
    "receipt = eth.waitForTransactionReceipt(myhash.hex())\n",
    "receipt\n",
    "#[x for x in dir(trxns[174]) if not x.startswith(\"_\")]"
   ]
  },
  {
   "cell_type": "code",
   "execution_count": 98,
   "id": "f1fc9f34",
   "metadata": {},
   "outputs": [
    {
     "name": "stdout",
     "output_type": "stream",
     "text": [
      "174\n"
     ]
    },
    {
     "data": {
      "text/plain": [
       "13234091"
      ]
     },
     "execution_count": 98,
     "metadata": {},
     "output_type": "execute_result"
    }
   ],
   "source": [
    "trxns[174]\n",
    "from collections import defaultdict\n",
    "tattrs = {\"gas\", \"gasPrice\", \"maxFeePerGas\", \"maxPriorityFeePerGas\"}\n",
    "for attr in tattrs:\n",
    "    tdict[attr] = []\n",
    "for i, tx in enumerate(trxns):\n",
    "    #print(f\"{i}\")\n",
    "    for attr in tattrs:\n",
    "        if not hasattr(tx, attr):\n",
    "            val = 0\n",
    "        else:\n",
    "            val = getattr(tx, attr)\n",
    "        #print(f\"{attr} {val}\")\n",
    "        tdict[attr].append(val)\n",
    "print(i)\n",
    "block.gasUsed"
   ]
  },
  {
   "cell_type": "code",
   "execution_count": 92,
   "id": "eff3bf52",
   "metadata": {},
   "outputs": [
    {
     "name": "stdout",
     "output_type": "stream",
     "text": [
      "30000000 13234091\n",
      "24619561\n",
      "200000000000\n"
     ]
    }
   ],
   "source": [
    "print(block.gasLimit, block.gasUsed)\n",
    "print(sum(tdict[\"gas\"]))\n",
    "print(max(tdict[\"maxFeePerGas\"]))"
   ]
  },
  {
   "cell_type": "code",
   "execution_count": 74,
   "id": "355fbca9",
   "metadata": {},
   "outputs": [
    {
     "name": "stdout",
     "output_type": "stream",
     "text": [
      "15910129122 1000000000\n"
     ]
    },
    {
     "data": {
      "text/plain": [
       "3193847050337646"
      ]
     },
     "execution_count": 74,
     "metadata": {},
     "output_type": "execute_result"
    }
   ],
   "source": [
    "t = trxns[174]\n",
    "print(t.gasPrice,  t.maxPriorityFeePerGas )\n",
    "gas = t.gas\n",
    "maxFee = t.maxFeePerGas\n",
    "t.maxFeePerGas * (t.gasPrice)\n",
    "0.001929996933809924  + 0.023828961066190076 \n",
    "t.gas / (t.gasPrice) # +  t.maxPriorityFeePerGas)\n",
    "0.001929996933809924 * 10**9\n",
    "129442 / t.gas\n",
    "t.gasPrice * t.maxPriorityFeePerGas \n",
    "t.gas * t.gasPrice"
   ]
  },
  {
   "cell_type": "code",
   "execution_count": 9,
   "id": "2225d5fa",
   "metadata": {},
   "outputs": [
    {
     "data": {
      "text/plain": [
       "['AsyncHTTPProvider',\n",
       " 'EthereumTesterProvider',\n",
       " 'HTTPProvider',\n",
       " 'IPCProvider',\n",
       " 'Iban',\n",
       " 'RequestManager',\n",
       " 'WebsocketProvider',\n",
       " 'api',\n",
       " 'attach_modules',\n",
       " 'clientVersion',\n",
       " 'codec',\n",
       " 'enable_strict_bytes_type_checking',\n",
       " 'enable_unstable_package_management_api',\n",
       " 'ens',\n",
       " 'eth',\n",
       " 'fromWei',\n",
       " 'geth',\n",
       " 'isAddress',\n",
       " 'isChecksumAddress',\n",
       " 'isConnected',\n",
       " 'is_encodable',\n",
       " 'keccak',\n",
       " 'manager',\n",
       " 'middleware_onion',\n",
       " 'net',\n",
       " 'parity',\n",
       " 'pm',\n",
       " 'provider',\n",
       " 'sha3',\n",
       " 'solidityKeccak',\n",
       " 'soliditySha3',\n",
       " 'testing',\n",
       " 'toBytes',\n",
       " 'toChecksumAddress',\n",
       " 'toHex',\n",
       " 'toInt',\n",
       " 'toJSON',\n",
       " 'toText',\n",
       " 'toWei',\n",
       " 'version']"
      ]
     },
     "execution_count": 9,
     "metadata": {},
     "output_type": "execute_result"
    }
   ],
   "source": [
    "[x for x in dir(connection) if not x.startswith(\"_\")]"
   ]
  },
  {
   "cell_type": "code",
   "execution_count": 5,
   "id": "9c6ea31d",
   "metadata": {},
   "outputs": [
    {
     "ename": "NameError",
     "evalue": "name 'web3' is not defined",
     "output_type": "error",
     "traceback": [
      "\u001b[0;31m---------------------------------------------------------------------------\u001b[0m",
      "\u001b[0;31mNameError\u001b[0m                                 Traceback (most recent call last)",
      "Input \u001b[0;32mIn [5]\u001b[0m, in \u001b[0;36m<cell line: 1>\u001b[0;34m()\u001b[0m\n\u001b[0;32m----> 1\u001b[0m block \u001b[38;5;241m=\u001b[39m \u001b[43mweb3\u001b[49m\u001b[38;5;241m.\u001b[39meth\u001b[38;5;241m.\u001b[39mget_block(\u001b[38;5;124m'\u001b[39m\u001b[38;5;124mlatest\u001b[39m\u001b[38;5;124m'\u001b[39m)\n\u001b[1;32m      2\u001b[0m block\n",
      "\u001b[0;31mNameError\u001b[0m: name 'web3' is not defined"
     ]
    }
   ],
   "source": [
    "block = web3.eth.get_block('latest')\n",
    "block"
   ]
  },
  {
   "cell_type": "code",
   "execution_count": 7,
   "id": "b367c34c",
   "metadata": {},
   "outputs": [
    {
     "name": "stdout",
     "output_type": "stream",
     "text": [
      "86c050b5eeb34da68b4e54958b8c534f\n",
      "ether-john\n"
     ]
    },
    {
     "data": {
      "text/plain": [
       "'ether-john'"
      ]
     },
     "execution_count": 7,
     "metadata": {},
     "output_type": "execute_result"
    }
   ],
   "source": [
    "import os\n",
    "import sys\n",
    "print(os.environ[\"WEB3_INFURA_API_SECRET\"])\n",
    "print(os.environ[\"WEB3_INFURA_PROJECT_ID\"])\n",
    "key = os.environ.get('WEB3_INFURA_PROJECT_ID',\n",
    "                     os.environ.get('WEB3_INFURA_API_KEY', ''))\n",
    "key"
   ]
  },
  {
   "cell_type": "code",
   "execution_count": 8,
   "id": "90f0a4b5",
   "metadata": {},
   "outputs": [
    {
     "ename": "InvalidStatusCode",
     "evalue": "server rejected WebSocket connection: HTTP 401",
     "output_type": "error",
     "traceback": [
      "\u001b[0;31m---------------------------------------------------------------------------\u001b[0m",
      "\u001b[0;31mInvalidStatusCode\u001b[0m                         Traceback (most recent call last)",
      "Input \u001b[0;32mIn [8]\u001b[0m, in \u001b[0;36m<cell line: 5>\u001b[0;34m()\u001b[0m\n\u001b[1;32m      2\u001b[0m \u001b[38;5;28;01mfrom\u001b[39;00m \u001b[38;5;21;01mweb3\u001b[39;00m\u001b[38;5;21;01m.\u001b[39;00m\u001b[38;5;21;01mauto\u001b[39;00m\u001b[38;5;21;01m.\u001b[39;00m\u001b[38;5;21;01minfura\u001b[39;00m \u001b[38;5;28;01mimport\u001b[39;00m w3\n\u001b[1;32m      4\u001b[0m \u001b[38;5;66;03m# confirm that the connection succeeded\u001b[39;00m\n\u001b[0;32m----> 5\u001b[0m \u001b[43mw3\u001b[49m\u001b[38;5;241;43m.\u001b[39;49m\u001b[43misConnected\u001b[49m\u001b[43m(\u001b[49m\u001b[43m)\u001b[49m\n",
      "File \u001b[0;32m~/anaconda3/envs/ether/lib/python3.8/site-packages/web3/main.py:343\u001b[0m, in \u001b[0;36mWeb3.isConnected\u001b[0;34m(self)\u001b[0m\n\u001b[1;32m    342\u001b[0m \u001b[38;5;28;01mdef\u001b[39;00m \u001b[38;5;21misConnected\u001b[39m(\u001b[38;5;28mself\u001b[39m) \u001b[38;5;241m-\u001b[39m\u001b[38;5;241m>\u001b[39m \u001b[38;5;28mbool\u001b[39m:\n\u001b[0;32m--> 343\u001b[0m     \u001b[38;5;28;01mreturn\u001b[39;00m \u001b[38;5;28;43mself\u001b[39;49m\u001b[38;5;241;43m.\u001b[39;49m\u001b[43mprovider\u001b[49m\u001b[38;5;241;43m.\u001b[39;49m\u001b[43misConnected\u001b[49m\u001b[43m(\u001b[49m\u001b[43m)\u001b[49m\n",
      "File \u001b[0;32m~/anaconda3/envs/ether/lib/python3.8/site-packages/web3/providers/base.py:103\u001b[0m, in \u001b[0;36mJSONBaseProvider.isConnected\u001b[0;34m(self)\u001b[0m\n\u001b[1;32m    101\u001b[0m \u001b[38;5;28;01mdef\u001b[39;00m \u001b[38;5;21misConnected\u001b[39m(\u001b[38;5;28mself\u001b[39m) \u001b[38;5;241m-\u001b[39m\u001b[38;5;241m>\u001b[39m \u001b[38;5;28mbool\u001b[39m:\n\u001b[1;32m    102\u001b[0m     \u001b[38;5;28;01mtry\u001b[39;00m:\n\u001b[0;32m--> 103\u001b[0m         response \u001b[38;5;241m=\u001b[39m \u001b[38;5;28;43mself\u001b[39;49m\u001b[38;5;241;43m.\u001b[39;49m\u001b[43mmake_request\u001b[49m\u001b[43m(\u001b[49m\u001b[43mRPCEndpoint\u001b[49m\u001b[43m(\u001b[49m\u001b[38;5;124;43m'\u001b[39;49m\u001b[38;5;124;43mweb3_clientVersion\u001b[39;49m\u001b[38;5;124;43m'\u001b[39;49m\u001b[43m)\u001b[49m\u001b[43m,\u001b[49m\u001b[43m \u001b[49m\u001b[43m[\u001b[49m\u001b[43m]\u001b[49m\u001b[43m)\u001b[49m\n\u001b[1;32m    104\u001b[0m     \u001b[38;5;28;01mexcept\u001b[39;00m \u001b[38;5;167;01mIOError\u001b[39;00m:\n\u001b[1;32m    105\u001b[0m         \u001b[38;5;28;01mreturn\u001b[39;00m \u001b[38;5;28;01mFalse\u001b[39;00m\n",
      "File \u001b[0;32m~/anaconda3/envs/ether/lib/python3.8/site-packages/web3/providers/websocket.py:144\u001b[0m, in \u001b[0;36mWebsocketProvider.make_request\u001b[0;34m(self, method, params)\u001b[0m\n\u001b[1;32m    139\u001b[0m request_data \u001b[38;5;241m=\u001b[39m \u001b[38;5;28mself\u001b[39m\u001b[38;5;241m.\u001b[39mencode_rpc_request(method, params)\n\u001b[1;32m    140\u001b[0m future \u001b[38;5;241m=\u001b[39m asyncio\u001b[38;5;241m.\u001b[39mrun_coroutine_threadsafe(\n\u001b[1;32m    141\u001b[0m     \u001b[38;5;28mself\u001b[39m\u001b[38;5;241m.\u001b[39mcoro_make_request(request_data),\n\u001b[1;32m    142\u001b[0m     WebsocketProvider\u001b[38;5;241m.\u001b[39m_loop\n\u001b[1;32m    143\u001b[0m )\n\u001b[0;32m--> 144\u001b[0m \u001b[38;5;28;01mreturn\u001b[39;00m \u001b[43mfuture\u001b[49m\u001b[38;5;241;43m.\u001b[39;49m\u001b[43mresult\u001b[49m\u001b[43m(\u001b[49m\u001b[43m)\u001b[49m\n",
      "File \u001b[0;32m~/anaconda3/envs/ether/lib/python3.8/concurrent/futures/_base.py:444\u001b[0m, in \u001b[0;36mFuture.result\u001b[0;34m(self, timeout)\u001b[0m\n\u001b[1;32m    442\u001b[0m     \u001b[38;5;28;01mraise\u001b[39;00m CancelledError()\n\u001b[1;32m    443\u001b[0m \u001b[38;5;28;01melif\u001b[39;00m \u001b[38;5;28mself\u001b[39m\u001b[38;5;241m.\u001b[39m_state \u001b[38;5;241m==\u001b[39m FINISHED:\n\u001b[0;32m--> 444\u001b[0m     \u001b[38;5;28;01mreturn\u001b[39;00m \u001b[38;5;28;43mself\u001b[39;49m\u001b[38;5;241;43m.\u001b[39;49m\u001b[43m__get_result\u001b[49m\u001b[43m(\u001b[49m\u001b[43m)\u001b[49m\n\u001b[1;32m    445\u001b[0m \u001b[38;5;28;01melse\u001b[39;00m:\n\u001b[1;32m    446\u001b[0m     \u001b[38;5;28;01mraise\u001b[39;00m \u001b[38;5;167;01mTimeoutError\u001b[39;00m()\n",
      "File \u001b[0;32m~/anaconda3/envs/ether/lib/python3.8/concurrent/futures/_base.py:389\u001b[0m, in \u001b[0;36mFuture.__get_result\u001b[0;34m(self)\u001b[0m\n\u001b[1;32m    387\u001b[0m \u001b[38;5;28;01mif\u001b[39;00m \u001b[38;5;28mself\u001b[39m\u001b[38;5;241m.\u001b[39m_exception:\n\u001b[1;32m    388\u001b[0m     \u001b[38;5;28;01mtry\u001b[39;00m:\n\u001b[0;32m--> 389\u001b[0m         \u001b[38;5;28;01mraise\u001b[39;00m \u001b[38;5;28mself\u001b[39m\u001b[38;5;241m.\u001b[39m_exception\n\u001b[1;32m    390\u001b[0m     \u001b[38;5;28;01mfinally\u001b[39;00m:\n\u001b[1;32m    391\u001b[0m         \u001b[38;5;66;03m# Break a reference cycle with the exception in self._exception\u001b[39;00m\n\u001b[1;32m    392\u001b[0m         \u001b[38;5;28mself\u001b[39m \u001b[38;5;241m=\u001b[39m \u001b[38;5;28;01mNone\u001b[39;00m\n",
      "File \u001b[0;32m~/anaconda3/envs/ether/lib/python3.8/site-packages/web3/providers/websocket.py:124\u001b[0m, in \u001b[0;36mWebsocketProvider.coro_make_request\u001b[0;34m(self, request_data)\u001b[0m\n\u001b[1;32m    123\u001b[0m \u001b[38;5;28;01masync\u001b[39;00m \u001b[38;5;28;01mdef\u001b[39;00m \u001b[38;5;21mcoro_make_request\u001b[39m(\u001b[38;5;28mself\u001b[39m, request_data: \u001b[38;5;28mbytes\u001b[39m) \u001b[38;5;241m-\u001b[39m\u001b[38;5;241m>\u001b[39m RPCResponse:\n\u001b[0;32m--> 124\u001b[0m     \u001b[38;5;28;01masync\u001b[39;00m \u001b[38;5;28;01mwith\u001b[39;00m \u001b[38;5;28mself\u001b[39m\u001b[38;5;241m.\u001b[39mconn \u001b[38;5;28;01mas\u001b[39;00m conn:\n\u001b[1;32m    125\u001b[0m         \u001b[38;5;28;01mawait\u001b[39;00m asyncio\u001b[38;5;241m.\u001b[39mwait_for(\n\u001b[1;32m    126\u001b[0m             conn\u001b[38;5;241m.\u001b[39msend(request_data),\n\u001b[1;32m    127\u001b[0m             timeout\u001b[38;5;241m=\u001b[39m\u001b[38;5;28mself\u001b[39m\u001b[38;5;241m.\u001b[39mwebsocket_timeout\n\u001b[1;32m    128\u001b[0m         )\n\u001b[1;32m    129\u001b[0m         \u001b[38;5;28;01mreturn\u001b[39;00m json\u001b[38;5;241m.\u001b[39mloads(\n\u001b[1;32m    130\u001b[0m             \u001b[38;5;28;01mawait\u001b[39;00m asyncio\u001b[38;5;241m.\u001b[39mwait_for(\n\u001b[1;32m    131\u001b[0m                 conn\u001b[38;5;241m.\u001b[39mrecv(),\n\u001b[1;32m    132\u001b[0m                 timeout\u001b[38;5;241m=\u001b[39m\u001b[38;5;28mself\u001b[39m\u001b[38;5;241m.\u001b[39mwebsocket_timeout\n\u001b[1;32m    133\u001b[0m             )\n\u001b[1;32m    134\u001b[0m         )\n",
      "File \u001b[0;32m~/anaconda3/envs/ether/lib/python3.8/site-packages/web3/providers/websocket.py:72\u001b[0m, in \u001b[0;36mPersistentWebSocket.__aenter__\u001b[0;34m(self)\u001b[0m\n\u001b[1;32m     70\u001b[0m \u001b[38;5;28;01masync\u001b[39;00m \u001b[38;5;28;01mdef\u001b[39;00m \u001b[38;5;21m__aenter__\u001b[39m(\u001b[38;5;28mself\u001b[39m) \u001b[38;5;241m-\u001b[39m\u001b[38;5;241m>\u001b[39m WebSocketClientProtocol:\n\u001b[1;32m     71\u001b[0m     \u001b[38;5;28;01mif\u001b[39;00m \u001b[38;5;28mself\u001b[39m\u001b[38;5;241m.\u001b[39mws \u001b[38;5;129;01mis\u001b[39;00m \u001b[38;5;28;01mNone\u001b[39;00m:\n\u001b[0;32m---> 72\u001b[0m         \u001b[38;5;28mself\u001b[39m\u001b[38;5;241m.\u001b[39mws \u001b[38;5;241m=\u001b[39m \u001b[38;5;28;01mawait\u001b[39;00m connect(\n\u001b[1;32m     73\u001b[0m             uri\u001b[38;5;241m=\u001b[39m\u001b[38;5;28mself\u001b[39m\u001b[38;5;241m.\u001b[39mendpoint_uri, loop\u001b[38;5;241m=\u001b[39m\u001b[38;5;28mself\u001b[39m\u001b[38;5;241m.\u001b[39mloop, \u001b[38;5;241m*\u001b[39m\u001b[38;5;241m*\u001b[39m\u001b[38;5;28mself\u001b[39m\u001b[38;5;241m.\u001b[39mwebsocket_kwargs\n\u001b[1;32m     74\u001b[0m         )\n\u001b[1;32m     75\u001b[0m     \u001b[38;5;28;01mreturn\u001b[39;00m \u001b[38;5;28mself\u001b[39m\u001b[38;5;241m.\u001b[39mws\n",
      "File \u001b[0;32m~/anaconda3/envs/ether/lib/python3.8/site-packages/websockets/legacy/client.py:629\u001b[0m, in \u001b[0;36mConnect.__await_impl__\u001b[0;34m(self)\u001b[0m\n\u001b[1;32m    627\u001b[0m \u001b[38;5;28;01mtry\u001b[39;00m:\n\u001b[1;32m    628\u001b[0m     \u001b[38;5;28;01mtry\u001b[39;00m:\n\u001b[0;32m--> 629\u001b[0m         \u001b[38;5;28;01mawait\u001b[39;00m protocol\u001b[38;5;241m.\u001b[39mhandshake(\n\u001b[1;32m    630\u001b[0m             \u001b[38;5;28mself\u001b[39m\u001b[38;5;241m.\u001b[39m_wsuri,\n\u001b[1;32m    631\u001b[0m             origin\u001b[38;5;241m=\u001b[39mprotocol\u001b[38;5;241m.\u001b[39morigin,\n\u001b[1;32m    632\u001b[0m             available_extensions\u001b[38;5;241m=\u001b[39mprotocol\u001b[38;5;241m.\u001b[39mavailable_extensions,\n\u001b[1;32m    633\u001b[0m             available_subprotocols\u001b[38;5;241m=\u001b[39mprotocol\u001b[38;5;241m.\u001b[39mavailable_subprotocols,\n\u001b[1;32m    634\u001b[0m             extra_headers\u001b[38;5;241m=\u001b[39mprotocol\u001b[38;5;241m.\u001b[39mextra_headers,\n\u001b[1;32m    635\u001b[0m         )\n\u001b[1;32m    636\u001b[0m     \u001b[38;5;28;01mexcept\u001b[39;00m \u001b[38;5;167;01mException\u001b[39;00m:\n\u001b[1;32m    637\u001b[0m         protocol\u001b[38;5;241m.\u001b[39mfail_connection()\n",
      "File \u001b[0;32m~/anaconda3/envs/ether/lib/python3.8/site-packages/websockets/legacy/client.py:388\u001b[0m, in \u001b[0;36mWebSocketClientProtocol.handshake\u001b[0;34m(self, wsuri, origin, available_extensions, available_subprotocols, extra_headers)\u001b[0m\n\u001b[1;32m    386\u001b[0m     \u001b[38;5;28;01mraise\u001b[39;00m RedirectHandshake(response_headers[\u001b[38;5;124m\"\u001b[39m\u001b[38;5;124mLocation\u001b[39m\u001b[38;5;124m\"\u001b[39m])\n\u001b[1;32m    387\u001b[0m \u001b[38;5;28;01melif\u001b[39;00m status_code \u001b[38;5;241m!=\u001b[39m \u001b[38;5;241m101\u001b[39m:\n\u001b[0;32m--> 388\u001b[0m     \u001b[38;5;28;01mraise\u001b[39;00m InvalidStatusCode(status_code)\n\u001b[1;32m    390\u001b[0m check_response(response_headers, key)\n\u001b[1;32m    392\u001b[0m \u001b[38;5;28mself\u001b[39m\u001b[38;5;241m.\u001b[39mextensions \u001b[38;5;241m=\u001b[39m \u001b[38;5;28mself\u001b[39m\u001b[38;5;241m.\u001b[39mprocess_extensions(\n\u001b[1;32m    393\u001b[0m     response_headers, available_extensions\n\u001b[1;32m    394\u001b[0m )\n",
      "\u001b[0;31mInvalidStatusCode\u001b[0m: server rejected WebSocket connection: HTTP 401"
     ]
    }
   ],
   "source": [
    "#from web3 import Web3, EthereumTesterProvider\n",
    "from web3.auto.infura import w3\n",
    "\n",
    "# confirm that the connection succeeded\n",
    "w3.isConnected()"
   ]
  },
  {
   "cell_type": "code",
   "execution_count": null,
   "id": "7fe550ac",
   "metadata": {},
   "outputs": [],
   "source": [
    "w3 = Web3(EthereumTesterProvider())\n",
    "w3.isConnected()"
   ]
  },
  {
   "cell_type": "code",
   "execution_count": null,
   "id": "f5effd1e",
   "metadata": {},
   "outputs": [],
   "source": [
    "w3.eth.get_block('latest')"
   ]
  },
  {
   "cell_type": "code",
   "execution_count": null,
   "id": "7de82300",
   "metadata": {},
   "outputs": [],
   "source": []
  },
  {
   "cell_type": "code",
   "execution_count": null,
   "id": "63033cd5",
   "metadata": {},
   "outputs": [],
   "source": []
  },
  {
   "cell_type": "code",
   "execution_count": null,
   "id": "a50b0c90",
   "metadata": {},
   "outputs": [],
   "source": [
    "key = os.environ.get('WEB3_INFURA_PROJECT_ID',\n",
    "                     os.environ.get('WEB3_INFURA_API_KEY', ''))\n",
    "key"
   ]
  },
  {
   "cell_type": "code",
   "execution_count": 3,
   "id": "feabbf13",
   "metadata": {},
   "outputs": [
    {
     "data": {
      "text/plain": [
       "{'key': 'ZPX11KK8RPS4E8G8Y2AJ8W36ES425BCTA1',\n",
       " 'endpoint': 'https://api.etherscan.io/api?module=gastracker&action=gasoracle&apikey={key}',\n",
       " 'hi': 'fastest',\n",
       " 'med': 'fast',\n",
       " 'lo': 'safeLow'}"
      ]
     },
     "execution_count": 3,
     "metadata": {},
     "output_type": "execute_result"
    }
   ],
   "source": [
    "import yaml\n",
    "fpath = \"./etherscan-gas.yaml\"\n",
    "with open(fpath, 'r') as fp:\n",
    "    ydata = yaml.safe_load(fp)\n",
    "ydata"
   ]
  },
  {
   "cell_type": "code",
   "execution_count": 10,
   "id": "d82962fa",
   "metadata": {},
   "outputs": [
    {
     "name": "stdout",
     "output_type": "stream",
     "text": [
      "https://api.etherscan.io/api?module=proxy&action=eth_blockNumber&apikey=ZPX11KK8RPS4E8G8Y2AJ8W36ES425BCTA1\n",
      "ZPX11KK8RPS4E8G8Y2AJ8W36ES425BCTA1\n"
     ]
    },
    {
     "data": {
      "text/plain": [
       "'https://api.etherscan.io/api?module=proxy&action=eth_blockNumber&apikey=ZPX11KK8RPS4E8G8Y2AJ8W36ES425BCTA1'"
      ]
     },
     "execution_count": 10,
     "metadata": {},
     "output_type": "execute_result"
    }
   ],
   "source": [
    "etherscan_key = ydata[\"key\"]\n",
    "url = f\"https://api.etherscan.io/api?module=proxy&action=eth_blockNumber&apikey={etherscan_key}\"\n",
    "print(url)\n",
    "print(ydata[\"key\"])\n",
    "#url.format(etherkey=ydata[\"key\"])\n",
    "url"
   ]
  },
  {
   "cell_type": "code",
   "execution_count": 11,
   "id": "8042cced",
   "metadata": {},
   "outputs": [
    {
     "data": {
      "text/plain": [
       "{'jsonrpc': '2.0', 'id': 83, 'result': '0xe7d961'}"
      ]
     },
     "execution_count": 11,
     "metadata": {},
     "output_type": "execute_result"
    }
   ],
   "source": [
    "from getjson import getjson\n",
    "jdict = getjson(url)\n",
    "jdict"
   ]
  },
  {
   "cell_type": "code",
   "execution_count": 9,
   "id": "958b244f",
   "metadata": {},
   "outputs": [
    {
     "name": "stdout",
     "output_type": "stream",
     "text": [
      "0xe7d95f\n",
      "https://api.etherscan.io/api?module=block&action=getblockreward&blockno=0xe7d95f&apikey=ZPX11KK8RPS4E8G8Y2AJ8W36ES425BCTA1\n"
     ]
    },
    {
     "data": {
      "text/plain": [
       "{'status': '0', 'message': 'NOTOK', 'result': 'Error!'}"
      ]
     },
     "execution_count": 9,
     "metadata": {},
     "output_type": "execute_result"
    }
   ],
   "source": [
    "blockno = jdict[\"result\"]\n",
    "print(blockno)\n",
    "url = f\"https://api.etherscan.io/api?module=block&action=getblockreward&blockno={blockno}&apikey={etherscan_key}\"\n",
    "print (url)\n",
    "getjson(url)"
   ]
  },
  {
   "cell_type": "code",
   "execution_count": null,
   "id": "84be6738",
   "metadata": {},
   "outputs": [],
   "source": []
  }
 ],
 "metadata": {
  "kernelspec": {
   "display_name": "ether",
   "language": "python",
   "name": "ether"
  },
  "language_info": {
   "codemirror_mode": {
    "name": "ipython",
    "version": 3
   },
   "file_extension": ".py",
   "mimetype": "text/x-python",
   "name": "python",
   "nbconvert_exporter": "python",
   "pygments_lexer": "ipython3",
   "version": "3.8.13"
  }
 },
 "nbformat": 4,
 "nbformat_minor": 5
}
