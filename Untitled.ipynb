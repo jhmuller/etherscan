{
 "cells": [
  {
   "cell_type": "code",
   "execution_count": 1,
   "id": "0268b5c4",
   "metadata": {},
   "outputs": [],
   "source": [
    "import os\n",
    "import sys\n",
    "import pandas as pd\n",
    "import urllib\n",
    "import yaml\n",
    "from getjson import getjson"
   ]
  },
  {
   "cell_type": "code",
   "execution_count": 18,
   "id": "d2544129",
   "metadata": {},
   "outputs": [
    {
     "data": {
      "text/plain": [
       "{'key': 'ZPX11KK8RPS4E8G8Y2AJ8W36ES425BCTA1',\n",
       " 'endpoint': 'https://api.etherscan.io/api?module=gastracker&action=gasoracle&apikey={key}',\n",
       " 'hi': 'fastest',\n",
       " 'med': 'fast',\n",
       " 'lo': 'safeLow'}"
      ]
     },
     "execution_count": 18,
     "metadata": {},
     "output_type": "execute_result"
    }
   ],
   "source": [
    "fname = \"etherscan-gas.yaml\"\n",
    "fpath = os.path.join(\".\", fname)\n",
    "with open(fpath, 'r') as fp:\n",
    "    ydata = yaml.safe_load(fp)\n",
    "ydata\n"
   ]
  },
  {
   "cell_type": "code",
   "execution_count": 36,
   "id": "75eb4e0c",
   "metadata": {},
   "outputs": [
    {
     "name": "stdout",
     "output_type": "stream",
     "text": [
      "https://api.etherscan.io/api?module=proxy&action=eth_blockNumber&apikey=ZPX11KK8RPS4E8G8Y2AJ8W36ES425BCTA1\n",
      "0xda45f3\n"
     ]
    }
   ],
   "source": [
    "url_template = \"https://api.etherscan.io/api?module=proxy&action=eth_blockNumber&apikey={key}\"\"\"\n",
    "url = url_template.format(key=ydata[\"key\"])\n",
    "print(url)\n",
    "data = getjson(url)\n",
    "print(data[\"result\"])\n",
    "#block_ep = f\"https://api.etherscan.io/api?module=block&action=getblockreward&blockno={block_no}&apikey={token}\""
   ]
  },
  {
   "cell_type": "code",
   "execution_count": 37,
   "id": "57fcf142",
   "metadata": {},
   "outputs": [
    {
     "name": "stdout",
     "output_type": "stream",
     "text": [
      " 0xcfc0a2\n",
      " bdata['result']\n"
     ]
    }
   ],
   "source": [
    "url_template = \"https://api.etherscan.io/api?module=proxy&action=eth_blockNumber&apikey={key}\"\"\"\n",
    "url_template = \"https://api.etherscan.io/api?module=block&action=getblockreward&blockno={block_no}&apikey={key}\"\n",
    "url_template = \"\"\"https://api.etherscan.io/api?module=proxy&action=eth_getBlockByNumber&tag={block_no}&boolean=true&apikey={key}\"\"\"\n",
    "\n",
    "url = url_template.format(block_no=data[\"result\"], key=ydata[\"key\"])\n",
    "\n",
    "bdata = getjson(url)\n",
    "\n",
    "res = bdata[\"result\"]\n",
    "print(f\" {res['gasUsed']}\")\n",
    "print(f\" bdata['result']\")"
   ]
  },
  {
   "cell_type": "code",
   "execution_count": 38,
   "id": "7e70cf47",
   "metadata": {},
   "outputs": [
    {
     "name": "stdout",
     "output_type": "stream",
     "text": [
      "0 hex 0x124f80  int 1200000\n",
      "1 hex 0x3d090  int 250000\n",
      "2 hex 0x30d40  int 200000\n",
      "3 hex 0x5208  int 21000\n",
      "4 hex 0x30d40  int 200000\n",
      "5 hex 0x5208  int 21000\n",
      "6 hex 0x15f90  int 90000\n",
      "7 hex 0x124f8  int 75000\n",
      "8 hex 0x13880  int 80000\n",
      "9 hex 0x5208  int 21000\n",
      "10 hex 0x5208  int 21000\n",
      "11 hex 0x11a6c  int 72300\n",
      "12 hex 0x5208  int 21000\n",
      "13 hex 0x61a80  int 400000\n",
      "14 hex 0x5208  int 21000\n",
      "15 hex 0x33373  int 209779\n",
      "16 hex 0x9470  int 38000\n",
      "17 hex 0x5208  int 21000\n",
      "18 hex 0x5208  int 21000\n",
      "19 hex 0x7e313  int 516883\n",
      "20 hex 0x45f34  int 286516\n",
      "21 hex 0x1de3d  int 122429\n",
      "22 hex 0x5dfe8  int 385000\n",
      "23 hex 0x5208  int 21000\n",
      "24 hex 0x5208  int 21000\n",
      "25 hex 0x5208  int 21000\n",
      "26 hex 0x1c18f  int 115087\n",
      "27 hex 0x5208  int 21000\n",
      "28 hex 0x5208  int 21000\n",
      "29 hex 0x5208  int 21000\n",
      "30 hex 0x5208  int 21000\n",
      "31 hex 0x5208  int 21000\n",
      "32 hex 0x5208  int 21000\n",
      "33 hex 0x5208  int 21000\n",
      "34 hex 0x5208  int 21000\n",
      "35 hex 0x5208  int 21000\n",
      "36 hex 0x5208  int 21000\n",
      "37 hex 0x16dc2  int 93634\n",
      "38 hex 0x5208  int 21000\n",
      "39 hex 0x5208  int 21000\n",
      "40 hex 0x5208  int 21000\n",
      "41 hex 0x5208  int 21000\n",
      "42 hex 0x5208  int 21000\n",
      "43 hex 0x5208  int 21000\n",
      "44 hex 0x5208  int 21000\n",
      "45 hex 0x5208  int 21000\n",
      "46 hex 0x7a120  int 500000\n",
      "47 hex 0x5208  int 21000\n",
      "48 hex 0x5208  int 21000\n",
      "49 hex 0x5208  int 21000\n",
      "50 hex 0x5208  int 21000\n",
      "51 hex 0x5208  int 21000\n",
      "52 hex 0x5208  int 21000\n",
      "53 hex 0x5208  int 21000\n",
      "54 hex 0x5208  int 21000\n",
      "55 hex 0x5208  int 21000\n",
      "56 hex 0xdd065  int 905317\n",
      "57 hex 0x136d4  int 79572\n",
      "58 hex 0x110a0  int 69792\n",
      "59 hex 0x5208  int 21000\n",
      "60 hex 0x5208  int 21000\n",
      "61 hex 0x110f4  int 69876\n",
      "62 hex 0x5208  int 21000\n",
      "63 hex 0x5208  int 21000\n",
      "64 hex 0x5208  int 21000\n",
      "65 hex 0x5208  int 21000\n",
      "66 hex 0x2dc6c  int 187500\n",
      "67 hex 0x5208  int 21000\n",
      "68 hex 0x5208  int 21000\n",
      "69 hex 0x5208  int 21000\n",
      "70 hex 0x5208  int 21000\n",
      "71 hex 0x5208  int 21000\n",
      "72 hex 0x5208  int 21000\n",
      "73 hex 0x5208  int 21000\n",
      "74 hex 0x5208  int 21000\n",
      "75 hex 0x5208  int 21000\n",
      "76 hex 0x5208  int 21000\n",
      "77 hex 0x5208  int 21000\n",
      "78 hex 0x5208  int 21000\n",
      "79 hex 0x4fe94  int 327316\n",
      "80 hex 0x5208  int 21000\n",
      "81 hex 0x5208  int 21000\n",
      "82 hex 0x5208  int 21000\n",
      "83 hex 0x5208  int 21000\n",
      "84 hex 0x5208  int 21000\n",
      "85 hex 0x5f908  int 391432\n",
      "86 hex 0x5208  int 21000\n",
      "87 hex 0x5208  int 21000\n",
      "88 hex 0x5208  int 21000\n",
      "89 hex 0x5208  int 21000\n",
      "90 hex 0x5208  int 21000\n",
      "91 hex 0x7e313  int 516883\n",
      "92 hex 0x1d4c0  int 120000\n",
      "93 hex 0x2a03a  int 172090\n",
      "94 hex 0xf3f5  int 62453\n",
      "95 hex 0x1552f  int 87343\n",
      "96 hex 0x5208  int 21000\n",
      "97 hex 0x3f17f  int 258431\n",
      "98 hex 0x6b535  int 439605\n",
      "99 hex 0xb483  int 46211\n",
      "100 hex 0x16d5d  int 93533\n",
      "101 hex 0x4f798  int 325528\n",
      "102 hex 0x102c3  int 66243\n",
      "103 hex 0x91a35  int 596533\n",
      "104 hex 0xceee  int 52974\n",
      "105 hex 0x5208  int 21000\n",
      "106 hex 0x3a598  int 239000\n",
      "107 hex 0x1c69c  int 116380\n",
      "108 hex 0x5bf1d  int 376605\n",
      "109 hex 0x2f840  int 194624\n",
      "110 hex 0x70e6  int 28902\n",
      "111 hex 0x4344a  int 275530\n",
      "112 hex 0x49662  int 300642\n",
      "113 hex 0x4e94b  int 321867\n",
      "114 hex 0x5208  int 21000\n",
      "115 hex 0xda1e  int 55838\n",
      "116 hex 0xb48b  int 46219\n",
      "117 hex 0xb483  int 46211\n",
      "118 hex 0x1fbd0  int 130000\n",
      "119 hex 0x693f6  int 431094\n",
      "120 hex 0x2bd5a  int 179546\n",
      "121 hex 0x139d9  int 80345\n",
      "122 hex 0x3dc8a  int 253066\n",
      "123 hex 0xda73  int 55923\n",
      "124 hex 0x529be  int 338366\n",
      "125 hex 0x3f17f  int 258431\n",
      "126 hex 0xb441  int 46145\n",
      "127 hex 0x5208  int 21000\n",
      "128 hex 0xb477  int 46199\n",
      "129 hex 0xf7e8  int 63464\n",
      "130 hex 0x5208  int 21000\n",
      "131 hex 0x6d22  int 27938\n",
      "132 hex 0x1f36e  int 127854\n",
      "133 hex 0x3df9f  int 253855\n",
      "134 hex 0x14126  int 82214\n",
      "135 hex 0x153ad  int 86957\n",
      "136 hex 0x142cc  int 82636\n",
      "137 hex 0xafee  int 45038\n",
      "138 hex 0x4c5e4  int 312804\n",
      "139 hex 0xb48c  int 46220\n",
      "140 hex 0x5208  int 21000\n",
      "141 hex 0x3c033  int 245811\n",
      "142 hex 0x493e0  int 300000\n",
      "143 hex 0x439ed  int 276973\n",
      "144 hex 0x60f29  int 397097\n",
      "145 hex 0xb59c  int 46492\n",
      "146 hex 0x150b8  int 86200\n",
      "147 hex 0x70e6  int 28902\n",
      "148 hex 0x153ad  int 86957\n",
      "149 hex 0x183ac  int 99244\n",
      "150 hex 0x13483  int 78979\n",
      "151 hex 0x43656  int 276054\n",
      "152 hex 0xb499  int 46233\n",
      "153 hex 0x153ad  int 86957\n",
      "154 hex 0x5208  int 21000\n",
      "155 hex 0x5208  int 21000\n",
      "156 hex 0x5208  int 21000\n",
      "157 hex 0xaeda  int 44762\n",
      "158 hex 0x5208  int 21000\n",
      "159 hex 0x1d18d  int 119181\n",
      "160 hex 0x1e146  int 123206\n",
      "161 hex 0x202cf  int 131791\n",
      "162 hex 0x5208  int 21000\n",
      "163 hex 0x1e146  int 123206\n",
      "164 hex 0x19ecf  int 106191\n",
      "165 hex 0x18f21  int 102177\n",
      "166 hex 0x5208  int 21000\n",
      "167 hex 0x202cf  int 131791\n",
      "168 hex 0x5bf0f  int 376591\n",
      "169 hex 0x5208  int 21000\n",
      "170 hex 0x15f90  int 90000\n",
      "171 hex 0x74824  int 477220\n",
      "172 hex 0x10ec4  int 69316\n",
      "173 hex 0x1b0b1  int 110769\n",
      "174 hex 0x63321  int 406305\n",
      "totgas int 20780578 hex 0x13d1622\n"
     ]
    }
   ],
   "source": [
    "bdata.keys()\n",
    "bdata[\"result\"][\"transactions\"][0]\n",
    "totgas = 0\n",
    "for ti, tr in enumerate(bdata[\"result\"][\"transactions\"]):\n",
    "    gashex = tr[\"gas\"]\n",
    "    gasint = int(gashex, 16)\n",
    "    totgas += gasint\n",
    "    print(f'{ti} hex {gashex}  int {gasint}')\n",
    "print(f\"totgas int {totgas} hex {hex(totgas)}\")"
   ]
  },
  {
   "cell_type": "code",
   "execution_count": 16,
   "id": "27dc4be7",
   "metadata": {},
   "outputs": [
    {
     "name": "stdout",
     "output_type": "stream",
     "text": [
      "https://api.etherscan.io/api\n",
      "   ?module=proxy\n",
      "   &action=eth_getBlockByNumber\n",
      "   &tag=0xc36b29\n",
      "   &boolean=true\n",
      "   &apikey=ZPX11KK8RPS4E8G8Y2AJ8W36ES425BCTA1\n"
     ]
    }
   ],
   "source": [
    "url = \"\"\"https://api.etherscan.io/api\n",
    "   ?module=proxy\n",
    "   &action=eth_getBlockByNumber\n",
    "   &tag=0xc36b29\n",
    "   &boolean=true\n",
    "   &apikey=ZPX11KK8RPS4E8G8Y2AJ8W36ES425BCTA1\"\"\"\n",
    "print(url)\n",
    "bdata = getjson(url)\n",
    "bdata"
   ]
  },
  {
   "cell_type": "code",
   "execution_count": 15,
   "id": "50ba1e52",
   "metadata": {},
   "outputs": [],
   "source": [
    "bdata"
   ]
  },
  {
   "cell_type": "code",
   "execution_count": null,
   "id": "2e611c2c",
   "metadata": {},
   "outputs": [],
   "source": [
    "from urllib import"
   ]
  }
 ],
 "metadata": {
  "kernelspec": {
   "display_name": "micropred",
   "language": "python",
   "name": "micropred"
  },
  "language_info": {
   "codemirror_mode": {
    "name": "ipython",
    "version": 3
   },
   "file_extension": ".py",
   "mimetype": "text/x-python",
   "name": "python",
   "nbconvert_exporter": "python",
   "pygments_lexer": "ipython3",
   "version": "3.9.7"
  }
 },
 "nbformat": 4,
 "nbformat_minor": 5
}
